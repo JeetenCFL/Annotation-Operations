{
 "cells": [
  {
   "cell_type": "code",
   "execution_count": 1,
   "metadata": {},
   "outputs": [],
   "source": [
    "import json\n",
    "import pandas as pd\n",
    "import cv2\n",
    "import matplotlib.pyplot as plt"
   ]
  },
  {
   "cell_type": "code",
   "execution_count": 2,
   "metadata": {},
   "outputs": [],
   "source": [
    "with open('valid.json', 'r') as f1:\n",
    "    anno1 = json.load(f1)"
   ]
  },
  {
   "cell_type": "code",
   "execution_count": 3,
   "metadata": {},
   "outputs": [],
   "source": [
    "# Create a data frame\n",
    "df = pd.DataFrame(columns = ['imgID', 'imgPath', 'dimensions', 'areas', 'labels', 'polygons', 'bboxes'])\n",
    "\n",
    "# fill the df with entire anno data\n",
    "for i in range(len(anno1['images'])):\n",
    "  tempDict = {'imgID': anno1['images'][i]['id'],\n",
    "            'imgPath':anno1['images'][i]['file_name'],\n",
    "            'dimensions': (anno1['images'][i]['height'],anno1['images'][i]['width']),\n",
    "            'areas': [],\n",
    "            'labels':[],\n",
    "            'polygons':[],\n",
    "            'bboxes':[]}\n",
    "  df = df.append(tempDict, ignore_index=True)\n",
    "\n",
    "df.set_index('imgID', inplace=True)\n",
    "\n",
    "for i in range(len(anno1['annotations'])): \n",
    "  locIndex = int(anno1['annotations'][i]['image_id'])\n",
    "  try:\n",
    "    df.loc[locIndex]['areas'].append(anno1['annotations'][i]['area'])\n",
    "    df.loc[locIndex]['labels'].append(anno1['annotations'][i]['category_id'])\n",
    "    df.loc[locIndex]['polygons'].append(anno1['annotations'][i]['segmentation'])\n",
    "    df.loc[locIndex]['bboxes'].append(anno1['annotations'][i]['bbox'])\n",
    "  except:\n",
    "    continue\n",
    "\n",
    "df.sort_index(inplace=True)"
   ]
  },
  {
   "cell_type": "code",
   "execution_count": 5,
   "metadata": {},
   "outputs": [],
   "source": [
    "combinedJson = {\n",
    "    'annotations': [],\n",
    "    'categories': anno1['categories'],\n",
    "    'images': [],\n",
    "    'info': {},\n",
    "    'licenses': []\n",
    "}\n",
    "annoIDCount = 0\n",
    "for imgID, row in df.iterrows():\n",
    "    tempImages = {\n",
    "      \"file_name\": row['imgPath'],\n",
    "      \"height\": row['dimensions'][0],\n",
    "      \"width\": row['dimensions'][1],\n",
    "      \"id\": imgID,\n",
    "    }\n",
    "    combinedJson['images'].append(tempImages)\n",
    "    for i in range(len(row['labels'])):\n",
    "      tempAnno = {\n",
    "        \"area\": row['areas'][i],\n",
    "        \"bbox\": row['bboxes'][i],\n",
    "        \"category_id\": row['labels'][i],\n",
    "        \"id\": annoIDCount,\n",
    "        \"image_id\": imgID,\n",
    "        \"iscrowd\": 0,\n",
    "        \"segmentation\": [row['polygons'][i]]\n",
    "      }\n",
    "      combinedJson['annotations'].append(tempAnno)\n",
    "      annoIDCount += 1\n",
    "\n",
    "with open(\"CombinedCoco.json\", \"w\") as outfile:\n",
    "    json.dump(combinedJson, outfile)"
   ]
  }
 ],
 "metadata": {
  "kernelspec": {
   "display_name": "Python 3.7.13 ('augimg': conda)",
   "language": "python",
   "name": "python3"
  },
  "language_info": {
   "codemirror_mode": {
    "name": "ipython",
    "version": 3
   },
   "file_extension": ".py",
   "mimetype": "text/x-python",
   "name": "python",
   "nbconvert_exporter": "python",
   "pygments_lexer": "ipython3",
   "version": "3.7.13"
  },
  "orig_nbformat": 4,
  "vscode": {
   "interpreter": {
    "hash": "ee6b1cb332ba3a3f90e152ac6a941bc11860c5b0a65b38ebf8371406b8be5cb1"
   }
  }
 },
 "nbformat": 4,
 "nbformat_minor": 2
}
