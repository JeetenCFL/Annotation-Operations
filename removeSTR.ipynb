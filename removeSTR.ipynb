{
 "cells": [
  {
   "cell_type": "code",
   "execution_count": 15,
   "metadata": {},
   "outputs": [],
   "source": [
    "import json"
   ]
  },
  {
   "cell_type": "code",
   "execution_count": 16,
   "metadata": {},
   "outputs": [],
   "source": [
    "with open('valid.json') as f:\n",
    "    anno = json.load(f)"
   ]
  },
  {
   "cell_type": "code",
   "execution_count": 20,
   "metadata": {},
   "outputs": [],
   "source": [
    "from unicodedata import category\n",
    "\n",
    "\n",
    "annocopy = {\n",
    "    'annotations': [],\n",
    "    'categories': anno['categories'],\n",
    "    'images': anno['images'],\n",
    "    'info': {},\n",
    "    'licenses': []\n",
    "}\n",
    "annoid = 0\n",
    "for i in range(len(anno['annotations'])):\n",
    "    try:\n",
    "        tempanno = {\n",
    "            \"image_id\": int(anno['annotations'][i]['image_id']),\n",
    "            \"category_id\": int(anno['annotations'][i]['category_id']),\n",
    "            \"area\": int(anno['annotations'][i]['area']), \n",
    "            \"bbox\": anno['annotations'][i]['bbox'],\n",
    "            \"iscrowd\": 0,\n",
    "            \"segmentation\": anno['annotations'][i]['segmentation'],\n",
    "            \"id\": annoid\n",
    "        }\n",
    "        annocopy['annotations'].append(tempanno)\n",
    "        annoid += 1\n",
    "    except:\n",
    "        continue"
   ]
  },
  {
   "cell_type": "code",
   "execution_count": 18,
   "metadata": {},
   "outputs": [],
   "source": [
    "with open(\"NewValid.json\", \"w\") as outfile:\n",
    "    json.dump(annocopy, outfile)"
   ]
  }
 ],
 "metadata": {
  "kernelspec": {
   "display_name": "Python 3.7.13 ('augimg': conda)",
   "language": "python",
   "name": "python3"
  },
  "language_info": {
   "codemirror_mode": {
    "name": "ipython",
    "version": 3
   },
   "file_extension": ".py",
   "mimetype": "text/x-python",
   "name": "python",
   "nbconvert_exporter": "python",
   "pygments_lexer": "ipython3",
   "version": "3.7.13"
  },
  "orig_nbformat": 4,
  "vscode": {
   "interpreter": {
    "hash": "ee6b1cb332ba3a3f90e152ac6a941bc11860c5b0a65b38ebf8371406b8be5cb1"
   }
  }
 },
 "nbformat": 4,
 "nbformat_minor": 2
}
